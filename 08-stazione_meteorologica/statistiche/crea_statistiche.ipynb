{
 "cells": [
  {
   "cell_type": "code",
   "execution_count": null,
   "id": "27b597a2",
   "metadata": {},
   "outputs": [],
   "source": [
    "import matplotlib.pyplot as plt\n",
    "import pandas as pd\n",
    "import datetime\n",
    "import os"
   ]
  },
  {
   "cell_type": "code",
   "execution_count": null,
   "id": "11d620d0",
   "metadata": {},
   "outputs": [],
   "source": [
    "file = \"./dati_sensori_giornalieri_0.csv\"\n",
    "mese = 1\n",
    "n_stazione = 0\n",
    "data = datetime.datetime.utcnow()\n",
    "resolution_value = 250"
   ]
  },
  {
   "cell_type": "code",
   "execution_count": null,
   "id": "17730fc5",
   "metadata": {},
   "outputs": [],
   "source": [
    "df = pd.read_csv(file)\n",
    "df"
   ]
  },
  {
   "cell_type": "code",
   "execution_count": null,
   "id": "3bc92f7a",
   "metadata": {},
   "outputs": [],
   "source": [
    "df['data_ora_stazione'] = pd.to_datetime(df['data_ora_stazione'], format='%Y-%m-%d')\n",
    "df.info()"
   ]
  },
  {
   "cell_type": "code",
   "execution_count": null,
   "id": "8108ad1b",
   "metadata": {},
   "outputs": [],
   "source": [
    "df = df[df['data_ora_stazione'].dt.month == mese]\n",
    "df"
   ]
  },
  {
   "cell_type": "code",
   "execution_count": null,
   "id": "541ccd70",
   "metadata": {},
   "outputs": [],
   "source": [
    "# Create target Directory if don't exist\n",
    "dirName = f\"./stazione_{n_stazione}\"\n",
    "if not os.path.exists(dirName):\n",
    "    os.mkdir(f\"./stazione_{n_stazione}\")\n",
    "    print(\"Directory \" , dirName ,  \" Created \")\n",
    "else:    \n",
    "    print(\"Directory \" , dirName ,  \" already exists\")"
   ]
  },
  {
   "cell_type": "code",
   "execution_count": null,
   "id": "17359e4b",
   "metadata": {},
   "outputs": [],
   "source": [
    "df.to_csv(f\"./stazione_{n_stazione}/dati_mese_{mese}.csv\")"
   ]
  },
  {
   "cell_type": "code",
   "execution_count": null,
   "id": "f6375bf7",
   "metadata": {},
   "outputs": [],
   "source": [
    "df.drop(labels=[\"ID_misurazioni\", \"data_ora_server\"], axis=1, inplace=True)\n",
    "df"
   ]
  },
  {
   "cell_type": "code",
   "execution_count": null,
   "id": "7bbe92b9",
   "metadata": {},
   "outputs": [],
   "source": [
    "for nc in df.columns:\n",
    "    df.drop(df.index[df[nc] == 9999.9], inplace=True)\n",
    "df"
   ]
  },
  {
   "cell_type": "code",
   "execution_count": null,
   "id": "a19f9dc9",
   "metadata": {},
   "outputs": [],
   "source": [
    "for nc in df.columns:\n",
    "    if nc != \"data_ora_stazione\":\n",
    "        fig, ax = plt.subplots(figsize=(30,10))\n",
    "        ax.plot(df[\"data_ora_stazione\"].values, df[nc].values, \"o\")\n",
    "        ax.set_title(nc)\n",
    "        plt.savefig(f\"./stazione_{n_stazione}/{nc}.png\", format=\"png\", dpi=resolution_value)"
   ]
  }
 ],
 "metadata": {
  "kernelspec": {
   "display_name": "Python 3 (ipykernel)",
   "language": "python",
   "name": "python3"
  },
  "language_info": {
   "codemirror_mode": {
    "name": "ipython",
    "version": 3
   },
   "file_extension": ".py",
   "mimetype": "text/x-python",
   "name": "python",
   "nbconvert_exporter": "python",
   "pygments_lexer": "ipython3",
   "version": "3.8.8"
  }
 },
 "nbformat": 4,
 "nbformat_minor": 5
}
